{
 "cells": [
  {
   "cell_type": "markdown",
   "id": "faeb99e9",
   "metadata": {},
   "source": [
    "# PENDAHULUAN"
   ]
  },
  {
   "cell_type": "markdown",
   "id": "c39fc7d3",
   "metadata": {},
   "source": [
    "Studi kasus ini merupakan proyek akhir dari *Google Data Analytics Professional Certificate*. \n",
    "\n",
    "**Judul**   : Bellabeat Case Study\n",
    "\n",
    "**Pemilik**  : Gian Habli Maulana\n",
    "\n",
    "**Tanggal**  : 28 September 2022"
   ]
  },
  {
   "cell_type": "markdown",
   "id": "3ab4fbdc",
   "metadata": {},
   "source": [
    "## Bellabeat : Bagaimana perusahaan kesehatan bisa bermain dengan cerdas?"
   ]
  },
  {
   "cell_type": "markdown",
   "id": "90b5a893",
   "metadata": {},
   "source": [
    "### Tahap 1 : Bertanya"
   ]
  },
  {
   "cell_type": "markdown",
   "id": "2482002f",
   "metadata": {},
   "source": [
    "#### 1.1 Latar Belakang"
   ]
  },
  {
   "cell_type": "markdown",
   "id": "04b0b82c",
   "metadata": {},
   "source": [
    "Bellabeat adalah sebuah perusahaan teknologi tinggi yang memproduksi produk pintar yang berfokus pada kesehatan. Sršen sebagai *founder* menggunakan latar belakangnya sebagai seniman untuk mengembangkan teknologi yang dirancang dengan indah yang menginformasikan dan menginspirasi wanita di seluruh dunia. Mengumpulkan data tentang aktivitas, tidur, stres, dan kesehatan reproduksi telah memungkinkan Bellabeat untuk memberdayakan wanita dengan pengetahuan tentang kesehatan dan kebiasaan mereka sendiri. Sejak didirikan pada tahun 2013, Bellabeat telah berkembang pesat dan dengan cepat memposisikan dirinya sebagai perusahaan kesehatan berbasis teknologi untuk wanita.\n"
   ]
  },
  {
   "cell_type": "markdown",
   "id": "bdd7df42",
   "metadata": {},
   "source": [
    "#### 1.2 Business Task"
   ]
  },
  {
   "cell_type": "markdown",
   "id": "144148e1",
   "metadata": {},
   "source": [
    "Menganalisis data dari penggunaan *FitBit Fitness Tracker* untuk memberikan wawasan bagaimana pelanggan menggunakan *FitBit App*. Kemudian, dengan menggunakan informasi ini, ia menginginkan rekomendasi tingkat tinggi tentang bagaimana tren ini dapat membantu penyusunan strategi pemasaran Bellabeat."
   ]
  },
  {
   "cell_type": "markdown",
   "id": "f9635710",
   "metadata": {},
   "source": [
    "#### 1.3 Business Objectives :"
   ]
  },
  {
   "cell_type": "markdown",
   "id": "7bce2aa3",
   "metadata": {},
   "source": [
    "1. Apa saja *trend* yang penggunaan *FitBit App* sudah terindentifikasi?\n",
    "2. Bagaimana *trend* tersebut dapat diterapkan kepada pelanggan Bellabeat?\n",
    "3. Bagaimana *trend* tresebut membantu strategi pemasaran dari Bellabeat?"
   ]
  },
  {
   "cell_type": "markdown",
   "id": "c8587ddf",
   "metadata": {},
   "source": [
    "#### 1.4 Dokumen yang disajikan:"
   ]
  },
  {
   "cell_type": "markdown",
   "id": "9601d1a2",
   "metadata": {},
   "source": [
    "1. Ringkasan dari *business task*\n",
    "2. Deskripsi mengenai sumber data yang digunakan\n",
    "3. Dokumentasi dari proses *cleaning and manipulating data*\n",
    "4. Ringkasan analisis\n",
    "5. Visualisasi data\n",
    "6. Rekomendasi konten tingkat tinggi berdasarkan hasil analisis"
   ]
  },
  {
   "cell_type": "markdown",
   "id": "068404dc",
   "metadata": {},
   "source": [
    "#### 1.5 Pemangku Kepentingan"
   ]
  },
  {
   "cell_type": "markdown",
   "id": "5fc88266",
   "metadata": {},
   "source": [
    "1. Urska Srsen: Salah satu pendiri Bellabeat dan *Chief Creative Officer*\n",
    "2. Sando Mur: Matematikawan dan salah satu pendiri Bellabeat; anggota kunci dari tim eksekutif Bellabeat\n",
    "3. Tim analisis pemasaran Bellabeat: Sebuah tim analis data yang bertanggung jawab untuk mengumpulkan, menganalisis, dan melaporkan data yang dapat membantu penyusunan strategi pemasaran Bellabeat. "
   ]
  },
  {
   "cell_type": "markdown",
   "id": "fbb2e0d1",
   "metadata": {},
   "source": [
    "### Tahap 2 : Mempersiapkan"
   ]
  },
  {
   "cell_type": "markdown",
   "id": "b9a6bc31",
   "metadata": {},
   "source": [
    "#### 2.1 Sumber Data"
   ]
  },
  {
   "cell_type": "markdown",
   "id": "afbc6a8a",
   "metadata": {},
   "source": [
    "1. Data tersedia secara publik pada *website*: https://www.kaggle.com/arashnic/fitbit \n",
    "2. Data diambil dari responden hasil survey  *Amazon Mechanical Turk* antara 12 Maret 2016 sampai 12 Mei 2016.\n",
    "3. Data diambil dari 30 orang pengguna FitBit yang telah memberikan izin untuk membagikan data pelacak pribadi milik mereka.\n",
    "4. Data yang diambil meliputi:(1) *physical activity recorded in minutes*, (2) *heart rate*, (3) *sleep monitoring*, (4) *daily activity*, dan (5) *steps*.\n"
   ]
  },
  {
   "cell_type": "markdown",
   "id": "c7519223",
   "metadata": {},
   "source": [
    "#### 2.2 Batasan Data"
   ]
  },
  {
   "cell_type": "markdown",
   "id": "08bd1562",
   "metadata": {},
   "source": [
    "1. Data dikumpulkan dari tahun 2016.\n",
    "2. Sampel berukuran 30 wanita penggunan FitBit App tidak merepresetasikan keseluruhan dari wanita.\n",
    "3. Data dikumpulkan melalui survey sehingga tidak menjamin integritas dan akurasi data."
   ]
  },
  {
   "cell_type": "markdown",
   "id": "b84c8a0c",
   "metadata": {},
   "source": [
    "#### 2.3 Apakah data ini memenuhi ROCCC?"
   ]
  },
  {
   "cell_type": "markdown",
   "id": "ab058598",
   "metadata": {},
   "source": [
    "Sumber data yang baik memenuhi standar *Reliable, Original, Comprehensive, Current,* dan *Cited*."
   ]
  },
  {
   "cell_type": "markdown",
   "id": "a7f0ba83",
   "metadata": {},
   "source": [
    "1. *Reliable* - Kurang Baik - data hanya diambil dari 30 orang responden.\n",
    "2. *Original* - Kurang Baik - data diambil dari pihak ketiga (*Amazon Mechanical Turk*).\n",
    "3. *Comprehensive* - Baik - data terdiri dar 5 parameter yang ada dalam FitBit App.\n",
    "4. *Current* - Kurang Baik - data ini diambil 6 tahun lalu, sehingga kurang relevan dengan tahun sekarang.\n",
    "5. *Cited* - Kurang Baik - data diambil dari pihak ketiga (*Amazon Mechanical Turk*)."
   ]
  },
  {
   "cell_type": "markdown",
   "id": "017982ca",
   "metadata": {},
   "source": [
    "Secara keseluruhan data kurang baik dan tidak sarankan untuk  membuat rekomendasi bisnis menggunakan data tersebut."
   ]
  },
  {
   "cell_type": "markdown",
   "id": "6be4e74b",
   "metadata": {},
   "source": [
    "#### 2.4 Data yang akan digunakan"
   ]
  },
  {
   "cell_type": "markdown",
   "id": "fde2b3c1",
   "metadata": {},
   "source": [
    "dailyActivity_merged.csv"
   ]
  },
  {
   "cell_type": "markdown",
   "id": "c15178b7",
   "metadata": {},
   "source": [
    "### Tahap 3:Memproses"
   ]
  },
  {
   "cell_type": "markdown",
   "id": "085c2a97",
   "metadata": {},
   "source": [
    "Pada tahap 3 ini Python digunakan untuk memproses data."
   ]
  },
  {
   "cell_type": "markdown",
   "id": "9058539c",
   "metadata": {},
   "source": [
    "#### 3.1 *Import Library* yang akan digunakan"
   ]
  },
  {
   "cell_type": "code",
   "execution_count": 28,
   "id": "8c531bbe",
   "metadata": {},
   "outputs": [],
   "source": [
    "import numpy as np \n",
    "import pandas as pd \n",
    "import matplotlib as plt \n",
    "import datetime as dt "
   ]
  },
  {
   "cell_type": "markdown",
   "id": "158a729a",
   "metadata": {},
   "source": [
    "#### 3.2 *Import* dataset yang akan digunakan"
   ]
  },
  {
   "cell_type": "code",
   "execution_count": 29,
   "id": "01ae7768",
   "metadata": {},
   "outputs": [
    {
     "data": {
      "text/html": [
       "<div>\n",
       "<style scoped>\n",
       "    .dataframe tbody tr th:only-of-type {\n",
       "        vertical-align: middle;\n",
       "    }\n",
       "\n",
       "    .dataframe tbody tr th {\n",
       "        vertical-align: top;\n",
       "    }\n",
       "\n",
       "    .dataframe thead th {\n",
       "        text-align: right;\n",
       "    }\n",
       "</style>\n",
       "<table border=\"1\" class=\"dataframe\">\n",
       "  <thead>\n",
       "    <tr style=\"text-align: right;\">\n",
       "      <th></th>\n",
       "      <th>Id</th>\n",
       "      <th>ActivityDate</th>\n",
       "      <th>TotalSteps</th>\n",
       "      <th>TotalDistance</th>\n",
       "      <th>TrackerDistance</th>\n",
       "      <th>LoggedActivitiesDistance</th>\n",
       "      <th>VeryActiveDistance</th>\n",
       "      <th>ModeratelyActiveDistance</th>\n",
       "      <th>LightActiveDistance</th>\n",
       "      <th>SedentaryActiveDistance</th>\n",
       "      <th>VeryActiveMinutes</th>\n",
       "      <th>FairlyActiveMinutes</th>\n",
       "      <th>LightlyActiveMinutes</th>\n",
       "      <th>SedentaryMinutes</th>\n",
       "      <th>Calories</th>\n",
       "    </tr>\n",
       "  </thead>\n",
       "  <tbody>\n",
       "    <tr>\n",
       "      <th>0</th>\n",
       "      <td>1503960366</td>\n",
       "      <td>4/12/2016</td>\n",
       "      <td>13162</td>\n",
       "      <td>8.50</td>\n",
       "      <td>8.50</td>\n",
       "      <td>0.0</td>\n",
       "      <td>1.88</td>\n",
       "      <td>0.55</td>\n",
       "      <td>6.06</td>\n",
       "      <td>0.0</td>\n",
       "      <td>25</td>\n",
       "      <td>13</td>\n",
       "      <td>328</td>\n",
       "      <td>728</td>\n",
       "      <td>1985</td>\n",
       "    </tr>\n",
       "    <tr>\n",
       "      <th>1</th>\n",
       "      <td>1503960366</td>\n",
       "      <td>4/13/2016</td>\n",
       "      <td>10735</td>\n",
       "      <td>6.97</td>\n",
       "      <td>6.97</td>\n",
       "      <td>0.0</td>\n",
       "      <td>1.57</td>\n",
       "      <td>0.69</td>\n",
       "      <td>4.71</td>\n",
       "      <td>0.0</td>\n",
       "      <td>21</td>\n",
       "      <td>19</td>\n",
       "      <td>217</td>\n",
       "      <td>776</td>\n",
       "      <td>1797</td>\n",
       "    </tr>\n",
       "    <tr>\n",
       "      <th>2</th>\n",
       "      <td>1503960366</td>\n",
       "      <td>4/14/2016</td>\n",
       "      <td>10460</td>\n",
       "      <td>6.74</td>\n",
       "      <td>6.74</td>\n",
       "      <td>0.0</td>\n",
       "      <td>2.44</td>\n",
       "      <td>0.40</td>\n",
       "      <td>3.91</td>\n",
       "      <td>0.0</td>\n",
       "      <td>30</td>\n",
       "      <td>11</td>\n",
       "      <td>181</td>\n",
       "      <td>1218</td>\n",
       "      <td>1776</td>\n",
       "    </tr>\n",
       "    <tr>\n",
       "      <th>3</th>\n",
       "      <td>1503960366</td>\n",
       "      <td>4/15/2016</td>\n",
       "      <td>9762</td>\n",
       "      <td>6.28</td>\n",
       "      <td>6.28</td>\n",
       "      <td>0.0</td>\n",
       "      <td>2.14</td>\n",
       "      <td>1.26</td>\n",
       "      <td>2.83</td>\n",
       "      <td>0.0</td>\n",
       "      <td>29</td>\n",
       "      <td>34</td>\n",
       "      <td>209</td>\n",
       "      <td>726</td>\n",
       "      <td>1745</td>\n",
       "    </tr>\n",
       "    <tr>\n",
       "      <th>4</th>\n",
       "      <td>1503960366</td>\n",
       "      <td>4/16/2016</td>\n",
       "      <td>12669</td>\n",
       "      <td>8.16</td>\n",
       "      <td>8.16</td>\n",
       "      <td>0.0</td>\n",
       "      <td>2.71</td>\n",
       "      <td>0.41</td>\n",
       "      <td>5.04</td>\n",
       "      <td>0.0</td>\n",
       "      <td>36</td>\n",
       "      <td>10</td>\n",
       "      <td>221</td>\n",
       "      <td>773</td>\n",
       "      <td>1863</td>\n",
       "    </tr>\n",
       "  </tbody>\n",
       "</table>\n",
       "</div>"
      ],
      "text/plain": [
       "           Id ActivityDate  TotalSteps  TotalDistance  TrackerDistance  \\\n",
       "0  1503960366    4/12/2016       13162           8.50             8.50   \n",
       "1  1503960366    4/13/2016       10735           6.97             6.97   \n",
       "2  1503960366    4/14/2016       10460           6.74             6.74   \n",
       "3  1503960366    4/15/2016        9762           6.28             6.28   \n",
       "4  1503960366    4/16/2016       12669           8.16             8.16   \n",
       "\n",
       "   LoggedActivitiesDistance  VeryActiveDistance  ModeratelyActiveDistance  \\\n",
       "0                       0.0                1.88                      0.55   \n",
       "1                       0.0                1.57                      0.69   \n",
       "2                       0.0                2.44                      0.40   \n",
       "3                       0.0                2.14                      1.26   \n",
       "4                       0.0                2.71                      0.41   \n",
       "\n",
       "   LightActiveDistance  SedentaryActiveDistance  VeryActiveMinutes  \\\n",
       "0                 6.06                      0.0                 25   \n",
       "1                 4.71                      0.0                 21   \n",
       "2                 3.91                      0.0                 30   \n",
       "3                 2.83                      0.0                 29   \n",
       "4                 5.04                      0.0                 36   \n",
       "\n",
       "   FairlyActiveMinutes  LightlyActiveMinutes  SedentaryMinutes  Calories  \n",
       "0                   13                   328               728      1985  \n",
       "1                   19                   217               776      1797  \n",
       "2                   11                   181              1218      1776  \n",
       "3                   34                   209               726      1745  \n",
       "4                   10                   221               773      1863  "
      ]
     },
     "execution_count": 29,
     "metadata": {},
     "output_type": "execute_result"
    }
   ],
   "source": [
    "daily_activity = pd.read_csv('dailyActivity_merged.csv')\n",
    "\n",
    "daily_activity.head()"
   ]
  },
  {
   "cell_type": "markdown",
   "id": "7fa50ec6",
   "metadata": {},
   "source": [
    "#### 3.3 *Data Cleaning*"
   ]
  },
  {
   "cell_type": "markdown",
   "id": "e58815a2",
   "metadata": {},
   "source": [
    "##### 1. Memeriksa tipe data apakah sesuai dengan *value* yang ditampilkan"
   ]
  },
  {
   "cell_type": "code",
   "execution_count": 30,
   "id": "669beaf1",
   "metadata": {
    "scrolled": true
   },
   "outputs": [
    {
     "name": "stdout",
     "output_type": "stream",
     "text": [
      "<class 'pandas.core.frame.DataFrame'>\n",
      "RangeIndex: 940 entries, 0 to 939\n",
      "Data columns (total 15 columns):\n",
      " #   Column                    Non-Null Count  Dtype  \n",
      "---  ------                    --------------  -----  \n",
      " 0   Id                        940 non-null    int64  \n",
      " 1   ActivityDate              940 non-null    object \n",
      " 2   TotalSteps                940 non-null    int64  \n",
      " 3   TotalDistance             940 non-null    float64\n",
      " 4   TrackerDistance           940 non-null    float64\n",
      " 5   LoggedActivitiesDistance  940 non-null    float64\n",
      " 6   VeryActiveDistance        940 non-null    float64\n",
      " 7   ModeratelyActiveDistance  940 non-null    float64\n",
      " 8   LightActiveDistance       940 non-null    float64\n",
      " 9   SedentaryActiveDistance   940 non-null    float64\n",
      " 10  VeryActiveMinutes         940 non-null    int64  \n",
      " 11  FairlyActiveMinutes       940 non-null    int64  \n",
      " 12  LightlyActiveMinutes      940 non-null    int64  \n",
      " 13  SedentaryMinutes          940 non-null    int64  \n",
      " 14  Calories                  940 non-null    int64  \n",
      "dtypes: float64(7), int64(7), object(1)\n",
      "memory usage: 110.3+ KB\n"
     ]
    }
   ],
   "source": [
    "daily_activity.info()"
   ]
  },
  {
   "cell_type": "markdown",
   "id": "f7d8e644",
   "metadata": {},
   "source": [
    "Tipe data untuk *ActivityDate* berupa 'object' seharusnya 'datetime64'. Melakukan proses konversi tipe data.\n"
   ]
  },
  {
   "cell_type": "code",
   "execution_count": 31,
   "id": "d7267ef4",
   "metadata": {},
   "outputs": [],
   "source": [
    "daily_activity[\"ActivityDate\"] = pd.to_datetime(daily_activity[\"ActivityDate\"], format=\"%m/%d/%Y\")"
   ]
  },
  {
   "cell_type": "markdown",
   "id": "61da8bd1",
   "metadata": {},
   "source": [
    "##### 2. Memeriksa apakah ada *missing values* (NaN) dan melakukan tindakan pada data tersebut."
   ]
  },
  {
   "cell_type": "code",
   "execution_count": 32,
   "id": "523aefa3",
   "metadata": {},
   "outputs": [
    {
     "data": {
      "text/plain": [
       "Id                          0\n",
       "ActivityDate                0\n",
       "TotalSteps                  0\n",
       "TotalDistance               0\n",
       "TrackerDistance             0\n",
       "LoggedActivitiesDistance    0\n",
       "VeryActiveDistance          0\n",
       "ModeratelyActiveDistance    0\n",
       "LightActiveDistance         0\n",
       "SedentaryActiveDistance     0\n",
       "VeryActiveMinutes           0\n",
       "FairlyActiveMinutes         0\n",
       "LightlyActiveMinutes        0\n",
       "SedentaryMinutes            0\n",
       "Calories                    0\n",
       "dtype: int64"
      ]
     },
     "execution_count": 32,
     "metadata": {},
     "output_type": "execute_result"
    }
   ],
   "source": [
    "daily_activity.isnull().sum()"
   ]
  },
  {
   "cell_type": "markdown",
   "id": "d771a6a6",
   "metadata": {},
   "source": [
    "Tidak ada *missing values* (NaN) pada dataset."
   ]
  },
  {
   "cell_type": "markdown",
   "id": "786715ab",
   "metadata": {},
   "source": [
    "##### 3. Memeriksa apakah ada baris yang duplikat dan menghapus data tersebut apabila ditemukan."
   ]
  },
  {
   "cell_type": "code",
   "execution_count": 33,
   "id": "ea624c99",
   "metadata": {},
   "outputs": [
    {
     "data": {
      "text/plain": [
       "0"
      ]
     },
     "execution_count": 33,
     "metadata": {},
     "output_type": "execute_result"
    }
   ],
   "source": [
    "daily_activity.duplicated().sum()"
   ]
  },
  {
   "cell_type": "markdown",
   "id": "45a83337",
   "metadata": {},
   "source": [
    "Tidak ada data duplikat pada dataset."
   ]
  },
  {
   "cell_type": "markdown",
   "id": "48fcef8f",
   "metadata": {},
   "source": [
    "##### 4. Memeriksa rangkuman data statistik deskriptif keseluruhan data"
   ]
  },
  {
   "cell_type": "code",
   "execution_count": 34,
   "id": "45de5e9f",
   "metadata": {},
   "outputs": [
    {
     "data": {
      "text/html": [
       "<div>\n",
       "<style scoped>\n",
       "    .dataframe tbody tr th:only-of-type {\n",
       "        vertical-align: middle;\n",
       "    }\n",
       "\n",
       "    .dataframe tbody tr th {\n",
       "        vertical-align: top;\n",
       "    }\n",
       "\n",
       "    .dataframe thead th {\n",
       "        text-align: right;\n",
       "    }\n",
       "</style>\n",
       "<table border=\"1\" class=\"dataframe\">\n",
       "  <thead>\n",
       "    <tr style=\"text-align: right;\">\n",
       "      <th></th>\n",
       "      <th>count</th>\n",
       "      <th>mean</th>\n",
       "      <th>std</th>\n",
       "      <th>min</th>\n",
       "      <th>25%</th>\n",
       "      <th>50%</th>\n",
       "      <th>75%</th>\n",
       "      <th>max</th>\n",
       "    </tr>\n",
       "  </thead>\n",
       "  <tbody>\n",
       "    <tr>\n",
       "      <th>Id</th>\n",
       "      <td>940.0</td>\n",
       "      <td>4.855407e+09</td>\n",
       "      <td>2.424805e+09</td>\n",
       "      <td>1.503960e+09</td>\n",
       "      <td>2.320127e+09</td>\n",
       "      <td>4.445115e+09</td>\n",
       "      <td>6.962181e+09</td>\n",
       "      <td>8.877689e+09</td>\n",
       "    </tr>\n",
       "    <tr>\n",
       "      <th>TotalSteps</th>\n",
       "      <td>940.0</td>\n",
       "      <td>7.637911e+03</td>\n",
       "      <td>5.087151e+03</td>\n",
       "      <td>0.000000e+00</td>\n",
       "      <td>3.789750e+03</td>\n",
       "      <td>7.405500e+03</td>\n",
       "      <td>1.072700e+04</td>\n",
       "      <td>3.601900e+04</td>\n",
       "    </tr>\n",
       "    <tr>\n",
       "      <th>TotalDistance</th>\n",
       "      <td>940.0</td>\n",
       "      <td>5.489702e+00</td>\n",
       "      <td>3.924606e+00</td>\n",
       "      <td>0.000000e+00</td>\n",
       "      <td>2.620000e+00</td>\n",
       "      <td>5.245000e+00</td>\n",
       "      <td>7.712500e+00</td>\n",
       "      <td>2.803000e+01</td>\n",
       "    </tr>\n",
       "    <tr>\n",
       "      <th>TrackerDistance</th>\n",
       "      <td>940.0</td>\n",
       "      <td>5.475351e+00</td>\n",
       "      <td>3.907276e+00</td>\n",
       "      <td>0.000000e+00</td>\n",
       "      <td>2.620000e+00</td>\n",
       "      <td>5.245000e+00</td>\n",
       "      <td>7.710000e+00</td>\n",
       "      <td>2.803000e+01</td>\n",
       "    </tr>\n",
       "    <tr>\n",
       "      <th>LoggedActivitiesDistance</th>\n",
       "      <td>940.0</td>\n",
       "      <td>1.081709e-01</td>\n",
       "      <td>6.198965e-01</td>\n",
       "      <td>0.000000e+00</td>\n",
       "      <td>0.000000e+00</td>\n",
       "      <td>0.000000e+00</td>\n",
       "      <td>0.000000e+00</td>\n",
       "      <td>4.942142e+00</td>\n",
       "    </tr>\n",
       "    <tr>\n",
       "      <th>VeryActiveDistance</th>\n",
       "      <td>940.0</td>\n",
       "      <td>1.502681e+00</td>\n",
       "      <td>2.658941e+00</td>\n",
       "      <td>0.000000e+00</td>\n",
       "      <td>0.000000e+00</td>\n",
       "      <td>2.100000e-01</td>\n",
       "      <td>2.052500e+00</td>\n",
       "      <td>2.192000e+01</td>\n",
       "    </tr>\n",
       "    <tr>\n",
       "      <th>ModeratelyActiveDistance</th>\n",
       "      <td>940.0</td>\n",
       "      <td>5.675426e-01</td>\n",
       "      <td>8.835803e-01</td>\n",
       "      <td>0.000000e+00</td>\n",
       "      <td>0.000000e+00</td>\n",
       "      <td>2.400000e-01</td>\n",
       "      <td>8.000000e-01</td>\n",
       "      <td>6.480000e+00</td>\n",
       "    </tr>\n",
       "    <tr>\n",
       "      <th>LightActiveDistance</th>\n",
       "      <td>940.0</td>\n",
       "      <td>3.340819e+00</td>\n",
       "      <td>2.040655e+00</td>\n",
       "      <td>0.000000e+00</td>\n",
       "      <td>1.945000e+00</td>\n",
       "      <td>3.365000e+00</td>\n",
       "      <td>4.782500e+00</td>\n",
       "      <td>1.071000e+01</td>\n",
       "    </tr>\n",
       "    <tr>\n",
       "      <th>SedentaryActiveDistance</th>\n",
       "      <td>940.0</td>\n",
       "      <td>1.606383e-03</td>\n",
       "      <td>7.346176e-03</td>\n",
       "      <td>0.000000e+00</td>\n",
       "      <td>0.000000e+00</td>\n",
       "      <td>0.000000e+00</td>\n",
       "      <td>0.000000e+00</td>\n",
       "      <td>1.100000e-01</td>\n",
       "    </tr>\n",
       "    <tr>\n",
       "      <th>VeryActiveMinutes</th>\n",
       "      <td>940.0</td>\n",
       "      <td>2.116489e+01</td>\n",
       "      <td>3.284480e+01</td>\n",
       "      <td>0.000000e+00</td>\n",
       "      <td>0.000000e+00</td>\n",
       "      <td>4.000000e+00</td>\n",
       "      <td>3.200000e+01</td>\n",
       "      <td>2.100000e+02</td>\n",
       "    </tr>\n",
       "    <tr>\n",
       "      <th>FairlyActiveMinutes</th>\n",
       "      <td>940.0</td>\n",
       "      <td>1.356489e+01</td>\n",
       "      <td>1.998740e+01</td>\n",
       "      <td>0.000000e+00</td>\n",
       "      <td>0.000000e+00</td>\n",
       "      <td>6.000000e+00</td>\n",
       "      <td>1.900000e+01</td>\n",
       "      <td>1.430000e+02</td>\n",
       "    </tr>\n",
       "    <tr>\n",
       "      <th>LightlyActiveMinutes</th>\n",
       "      <td>940.0</td>\n",
       "      <td>1.928128e+02</td>\n",
       "      <td>1.091747e+02</td>\n",
       "      <td>0.000000e+00</td>\n",
       "      <td>1.270000e+02</td>\n",
       "      <td>1.990000e+02</td>\n",
       "      <td>2.640000e+02</td>\n",
       "      <td>5.180000e+02</td>\n",
       "    </tr>\n",
       "    <tr>\n",
       "      <th>SedentaryMinutes</th>\n",
       "      <td>940.0</td>\n",
       "      <td>9.912106e+02</td>\n",
       "      <td>3.012674e+02</td>\n",
       "      <td>0.000000e+00</td>\n",
       "      <td>7.297500e+02</td>\n",
       "      <td>1.057500e+03</td>\n",
       "      <td>1.229500e+03</td>\n",
       "      <td>1.440000e+03</td>\n",
       "    </tr>\n",
       "    <tr>\n",
       "      <th>Calories</th>\n",
       "      <td>940.0</td>\n",
       "      <td>2.303610e+03</td>\n",
       "      <td>7.181669e+02</td>\n",
       "      <td>0.000000e+00</td>\n",
       "      <td>1.828500e+03</td>\n",
       "      <td>2.134000e+03</td>\n",
       "      <td>2.793250e+03</td>\n",
       "      <td>4.900000e+03</td>\n",
       "    </tr>\n",
       "  </tbody>\n",
       "</table>\n",
       "</div>"
      ],
      "text/plain": [
       "                          count          mean           std           min  \\\n",
       "Id                        940.0  4.855407e+09  2.424805e+09  1.503960e+09   \n",
       "TotalSteps                940.0  7.637911e+03  5.087151e+03  0.000000e+00   \n",
       "TotalDistance             940.0  5.489702e+00  3.924606e+00  0.000000e+00   \n",
       "TrackerDistance           940.0  5.475351e+00  3.907276e+00  0.000000e+00   \n",
       "LoggedActivitiesDistance  940.0  1.081709e-01  6.198965e-01  0.000000e+00   \n",
       "VeryActiveDistance        940.0  1.502681e+00  2.658941e+00  0.000000e+00   \n",
       "ModeratelyActiveDistance  940.0  5.675426e-01  8.835803e-01  0.000000e+00   \n",
       "LightActiveDistance       940.0  3.340819e+00  2.040655e+00  0.000000e+00   \n",
       "SedentaryActiveDistance   940.0  1.606383e-03  7.346176e-03  0.000000e+00   \n",
       "VeryActiveMinutes         940.0  2.116489e+01  3.284480e+01  0.000000e+00   \n",
       "FairlyActiveMinutes       940.0  1.356489e+01  1.998740e+01  0.000000e+00   \n",
       "LightlyActiveMinutes      940.0  1.928128e+02  1.091747e+02  0.000000e+00   \n",
       "SedentaryMinutes          940.0  9.912106e+02  3.012674e+02  0.000000e+00   \n",
       "Calories                  940.0  2.303610e+03  7.181669e+02  0.000000e+00   \n",
       "\n",
       "                                   25%           50%           75%  \\\n",
       "Id                        2.320127e+09  4.445115e+09  6.962181e+09   \n",
       "TotalSteps                3.789750e+03  7.405500e+03  1.072700e+04   \n",
       "TotalDistance             2.620000e+00  5.245000e+00  7.712500e+00   \n",
       "TrackerDistance           2.620000e+00  5.245000e+00  7.710000e+00   \n",
       "LoggedActivitiesDistance  0.000000e+00  0.000000e+00  0.000000e+00   \n",
       "VeryActiveDistance        0.000000e+00  2.100000e-01  2.052500e+00   \n",
       "ModeratelyActiveDistance  0.000000e+00  2.400000e-01  8.000000e-01   \n",
       "LightActiveDistance       1.945000e+00  3.365000e+00  4.782500e+00   \n",
       "SedentaryActiveDistance   0.000000e+00  0.000000e+00  0.000000e+00   \n",
       "VeryActiveMinutes         0.000000e+00  4.000000e+00  3.200000e+01   \n",
       "FairlyActiveMinutes       0.000000e+00  6.000000e+00  1.900000e+01   \n",
       "LightlyActiveMinutes      1.270000e+02  1.990000e+02  2.640000e+02   \n",
       "SedentaryMinutes          7.297500e+02  1.057500e+03  1.229500e+03   \n",
       "Calories                  1.828500e+03  2.134000e+03  2.793250e+03   \n",
       "\n",
       "                                   max  \n",
       "Id                        8.877689e+09  \n",
       "TotalSteps                3.601900e+04  \n",
       "TotalDistance             2.803000e+01  \n",
       "TrackerDistance           2.803000e+01  \n",
       "LoggedActivitiesDistance  4.942142e+00  \n",
       "VeryActiveDistance        2.192000e+01  \n",
       "ModeratelyActiveDistance  6.480000e+00  \n",
       "LightActiveDistance       1.071000e+01  \n",
       "SedentaryActiveDistance   1.100000e-01  \n",
       "VeryActiveMinutes         2.100000e+02  \n",
       "FairlyActiveMinutes       1.430000e+02  \n",
       "LightlyActiveMinutes      5.180000e+02  \n",
       "SedentaryMinutes          1.440000e+03  \n",
       "Calories                  4.900000e+03  "
      ]
     },
     "execution_count": 34,
     "metadata": {},
     "output_type": "execute_result"
    }
   ],
   "source": [
    "daily_activity.describe().T"
   ]
  },
  {
   "cell_type": "markdown",
   "id": "fe9a3fad",
   "metadata": {},
   "source": [
    "Nilai mean dan median pada semua data memiliki nilai yang mendekati, artinya sebaran data cukup baik."
   ]
  },
  {
   "cell_type": "markdown",
   "id": "527c9e8b",
   "metadata": {},
   "source": [
    "#### 3.4 Data Manipulation"
   ]
  },
  {
   "cell_type": "markdown",
   "id": "c35db52d",
   "metadata": {},
   "source": [
    "##### 1. Membuat kolom baru *DayOfTheWeek* dengan memisahkan *ActivityDate* menjadi hari untuk analisis selanjutnya."
   ]
  },
  {
   "cell_type": "code",
   "execution_count": 35,
   "id": "3c8a62b0",
   "metadata": {},
   "outputs": [
    {
     "data": {
      "text/html": [
       "<div>\n",
       "<style scoped>\n",
       "    .dataframe tbody tr th:only-of-type {\n",
       "        vertical-align: middle;\n",
       "    }\n",
       "\n",
       "    .dataframe tbody tr th {\n",
       "        vertical-align: top;\n",
       "    }\n",
       "\n",
       "    .dataframe thead th {\n",
       "        text-align: right;\n",
       "    }\n",
       "</style>\n",
       "<table border=\"1\" class=\"dataframe\">\n",
       "  <thead>\n",
       "    <tr style=\"text-align: right;\">\n",
       "      <th></th>\n",
       "      <th>Id</th>\n",
       "      <th>ActivityDate</th>\n",
       "      <th>TotalSteps</th>\n",
       "      <th>TotalDistance</th>\n",
       "      <th>TrackerDistance</th>\n",
       "      <th>LoggedActivitiesDistance</th>\n",
       "      <th>VeryActiveDistance</th>\n",
       "      <th>ModeratelyActiveDistance</th>\n",
       "      <th>LightActiveDistance</th>\n",
       "      <th>SedentaryActiveDistance</th>\n",
       "      <th>VeryActiveMinutes</th>\n",
       "      <th>FairlyActiveMinutes</th>\n",
       "      <th>LightlyActiveMinutes</th>\n",
       "      <th>SedentaryMinutes</th>\n",
       "      <th>Calories</th>\n",
       "      <th>DayOfTheWeek</th>\n",
       "    </tr>\n",
       "  </thead>\n",
       "  <tbody>\n",
       "    <tr>\n",
       "      <th>0</th>\n",
       "      <td>1503960366</td>\n",
       "      <td>2016-04-12</td>\n",
       "      <td>13162</td>\n",
       "      <td>8.50</td>\n",
       "      <td>8.50</td>\n",
       "      <td>0.0</td>\n",
       "      <td>1.88</td>\n",
       "      <td>0.55</td>\n",
       "      <td>6.06</td>\n",
       "      <td>0.0</td>\n",
       "      <td>25</td>\n",
       "      <td>13</td>\n",
       "      <td>328</td>\n",
       "      <td>728</td>\n",
       "      <td>1985</td>\n",
       "      <td>Tuesday</td>\n",
       "    </tr>\n",
       "    <tr>\n",
       "      <th>1</th>\n",
       "      <td>1503960366</td>\n",
       "      <td>2016-04-13</td>\n",
       "      <td>10735</td>\n",
       "      <td>6.97</td>\n",
       "      <td>6.97</td>\n",
       "      <td>0.0</td>\n",
       "      <td>1.57</td>\n",
       "      <td>0.69</td>\n",
       "      <td>4.71</td>\n",
       "      <td>0.0</td>\n",
       "      <td>21</td>\n",
       "      <td>19</td>\n",
       "      <td>217</td>\n",
       "      <td>776</td>\n",
       "      <td>1797</td>\n",
       "      <td>Wednesday</td>\n",
       "    </tr>\n",
       "    <tr>\n",
       "      <th>2</th>\n",
       "      <td>1503960366</td>\n",
       "      <td>2016-04-14</td>\n",
       "      <td>10460</td>\n",
       "      <td>6.74</td>\n",
       "      <td>6.74</td>\n",
       "      <td>0.0</td>\n",
       "      <td>2.44</td>\n",
       "      <td>0.40</td>\n",
       "      <td>3.91</td>\n",
       "      <td>0.0</td>\n",
       "      <td>30</td>\n",
       "      <td>11</td>\n",
       "      <td>181</td>\n",
       "      <td>1218</td>\n",
       "      <td>1776</td>\n",
       "      <td>Thursday</td>\n",
       "    </tr>\n",
       "    <tr>\n",
       "      <th>3</th>\n",
       "      <td>1503960366</td>\n",
       "      <td>2016-04-15</td>\n",
       "      <td>9762</td>\n",
       "      <td>6.28</td>\n",
       "      <td>6.28</td>\n",
       "      <td>0.0</td>\n",
       "      <td>2.14</td>\n",
       "      <td>1.26</td>\n",
       "      <td>2.83</td>\n",
       "      <td>0.0</td>\n",
       "      <td>29</td>\n",
       "      <td>34</td>\n",
       "      <td>209</td>\n",
       "      <td>726</td>\n",
       "      <td>1745</td>\n",
       "      <td>Friday</td>\n",
       "    </tr>\n",
       "    <tr>\n",
       "      <th>4</th>\n",
       "      <td>1503960366</td>\n",
       "      <td>2016-04-16</td>\n",
       "      <td>12669</td>\n",
       "      <td>8.16</td>\n",
       "      <td>8.16</td>\n",
       "      <td>0.0</td>\n",
       "      <td>2.71</td>\n",
       "      <td>0.41</td>\n",
       "      <td>5.04</td>\n",
       "      <td>0.0</td>\n",
       "      <td>36</td>\n",
       "      <td>10</td>\n",
       "      <td>221</td>\n",
       "      <td>773</td>\n",
       "      <td>1863</td>\n",
       "      <td>Saturday</td>\n",
       "    </tr>\n",
       "  </tbody>\n",
       "</table>\n",
       "</div>"
      ],
      "text/plain": [
       "           Id ActivityDate  TotalSteps  TotalDistance  TrackerDistance  \\\n",
       "0  1503960366   2016-04-12       13162           8.50             8.50   \n",
       "1  1503960366   2016-04-13       10735           6.97             6.97   \n",
       "2  1503960366   2016-04-14       10460           6.74             6.74   \n",
       "3  1503960366   2016-04-15        9762           6.28             6.28   \n",
       "4  1503960366   2016-04-16       12669           8.16             8.16   \n",
       "\n",
       "   LoggedActivitiesDistance  VeryActiveDistance  ModeratelyActiveDistance  \\\n",
       "0                       0.0                1.88                      0.55   \n",
       "1                       0.0                1.57                      0.69   \n",
       "2                       0.0                2.44                      0.40   \n",
       "3                       0.0                2.14                      1.26   \n",
       "4                       0.0                2.71                      0.41   \n",
       "\n",
       "   LightActiveDistance  SedentaryActiveDistance  VeryActiveMinutes  \\\n",
       "0                 6.06                      0.0                 25   \n",
       "1                 4.71                      0.0                 21   \n",
       "2                 3.91                      0.0                 30   \n",
       "3                 2.83                      0.0                 29   \n",
       "4                 5.04                      0.0                 36   \n",
       "\n",
       "   FairlyActiveMinutes  LightlyActiveMinutes  SedentaryMinutes  Calories  \\\n",
       "0                   13                   328               728      1985   \n",
       "1                   19                   217               776      1797   \n",
       "2                   11                   181              1218      1776   \n",
       "3                   34                   209               726      1745   \n",
       "4                   10                   221               773      1863   \n",
       "\n",
       "  DayOfTheWeek  \n",
       "0      Tuesday  \n",
       "1    Wednesday  \n",
       "2     Thursday  \n",
       "3       Friday  \n",
       "4     Saturday  "
      ]
     },
     "execution_count": 35,
     "metadata": {},
     "output_type": "execute_result"
    }
   ],
   "source": [
    "daily_activity[\"DayOfTheWeek\"] = daily_activity.ActivityDate.dt.day_name()\n",
    "\n",
    "daily_activity.head()"
   ]
  },
  {
   "cell_type": "markdown",
   "id": "ec0a7417",
   "metadata": {},
   "source": [
    "##### 2. Membuat kolom baru total_mins dengan menjumlahkan 'VeryActiveMinutes','FairlyActiveMinutes','LightlyActiveMinutes','SedentaryMinutes' menjadi total menit untuk analisis selanjutnya."
   ]
  },
  {
   "cell_type": "code",
   "execution_count": 36,
   "id": "44adbe84",
   "metadata": {},
   "outputs": [
    {
     "data": {
      "text/html": [
       "<div>\n",
       "<style scoped>\n",
       "    .dataframe tbody tr th:only-of-type {\n",
       "        vertical-align: middle;\n",
       "    }\n",
       "\n",
       "    .dataframe tbody tr th {\n",
       "        vertical-align: top;\n",
       "    }\n",
       "\n",
       "    .dataframe thead th {\n",
       "        text-align: right;\n",
       "    }\n",
       "</style>\n",
       "<table border=\"1\" class=\"dataframe\">\n",
       "  <thead>\n",
       "    <tr style=\"text-align: right;\">\n",
       "      <th></th>\n",
       "      <th>Id</th>\n",
       "      <th>ActivityDate</th>\n",
       "      <th>TotalSteps</th>\n",
       "      <th>TotalDistance</th>\n",
       "      <th>TrackerDistance</th>\n",
       "      <th>LoggedActivitiesDistance</th>\n",
       "      <th>VeryActiveDistance</th>\n",
       "      <th>ModeratelyActiveDistance</th>\n",
       "      <th>LightActiveDistance</th>\n",
       "      <th>SedentaryActiveDistance</th>\n",
       "      <th>VeryActiveMinutes</th>\n",
       "      <th>FairlyActiveMinutes</th>\n",
       "      <th>LightlyActiveMinutes</th>\n",
       "      <th>SedentaryMinutes</th>\n",
       "      <th>Calories</th>\n",
       "      <th>DayOfTheWeek</th>\n",
       "      <th>total_mins</th>\n",
       "    </tr>\n",
       "  </thead>\n",
       "  <tbody>\n",
       "    <tr>\n",
       "      <th>0</th>\n",
       "      <td>1503960366</td>\n",
       "      <td>2016-04-12</td>\n",
       "      <td>13162</td>\n",
       "      <td>8.50</td>\n",
       "      <td>8.50</td>\n",
       "      <td>0.0</td>\n",
       "      <td>1.88</td>\n",
       "      <td>0.55</td>\n",
       "      <td>6.06</td>\n",
       "      <td>0.0</td>\n",
       "      <td>25</td>\n",
       "      <td>13</td>\n",
       "      <td>328</td>\n",
       "      <td>728</td>\n",
       "      <td>1985</td>\n",
       "      <td>Tuesday</td>\n",
       "      <td>1094</td>\n",
       "    </tr>\n",
       "    <tr>\n",
       "      <th>1</th>\n",
       "      <td>1503960366</td>\n",
       "      <td>2016-04-13</td>\n",
       "      <td>10735</td>\n",
       "      <td>6.97</td>\n",
       "      <td>6.97</td>\n",
       "      <td>0.0</td>\n",
       "      <td>1.57</td>\n",
       "      <td>0.69</td>\n",
       "      <td>4.71</td>\n",
       "      <td>0.0</td>\n",
       "      <td>21</td>\n",
       "      <td>19</td>\n",
       "      <td>217</td>\n",
       "      <td>776</td>\n",
       "      <td>1797</td>\n",
       "      <td>Wednesday</td>\n",
       "      <td>1033</td>\n",
       "    </tr>\n",
       "    <tr>\n",
       "      <th>2</th>\n",
       "      <td>1503960366</td>\n",
       "      <td>2016-04-14</td>\n",
       "      <td>10460</td>\n",
       "      <td>6.74</td>\n",
       "      <td>6.74</td>\n",
       "      <td>0.0</td>\n",
       "      <td>2.44</td>\n",
       "      <td>0.40</td>\n",
       "      <td>3.91</td>\n",
       "      <td>0.0</td>\n",
       "      <td>30</td>\n",
       "      <td>11</td>\n",
       "      <td>181</td>\n",
       "      <td>1218</td>\n",
       "      <td>1776</td>\n",
       "      <td>Thursday</td>\n",
       "      <td>1440</td>\n",
       "    </tr>\n",
       "    <tr>\n",
       "      <th>3</th>\n",
       "      <td>1503960366</td>\n",
       "      <td>2016-04-15</td>\n",
       "      <td>9762</td>\n",
       "      <td>6.28</td>\n",
       "      <td>6.28</td>\n",
       "      <td>0.0</td>\n",
       "      <td>2.14</td>\n",
       "      <td>1.26</td>\n",
       "      <td>2.83</td>\n",
       "      <td>0.0</td>\n",
       "      <td>29</td>\n",
       "      <td>34</td>\n",
       "      <td>209</td>\n",
       "      <td>726</td>\n",
       "      <td>1745</td>\n",
       "      <td>Friday</td>\n",
       "      <td>998</td>\n",
       "    </tr>\n",
       "    <tr>\n",
       "      <th>4</th>\n",
       "      <td>1503960366</td>\n",
       "      <td>2016-04-16</td>\n",
       "      <td>12669</td>\n",
       "      <td>8.16</td>\n",
       "      <td>8.16</td>\n",
       "      <td>0.0</td>\n",
       "      <td>2.71</td>\n",
       "      <td>0.41</td>\n",
       "      <td>5.04</td>\n",
       "      <td>0.0</td>\n",
       "      <td>36</td>\n",
       "      <td>10</td>\n",
       "      <td>221</td>\n",
       "      <td>773</td>\n",
       "      <td>1863</td>\n",
       "      <td>Saturday</td>\n",
       "      <td>1040</td>\n",
       "    </tr>\n",
       "  </tbody>\n",
       "</table>\n",
       "</div>"
      ],
      "text/plain": [
       "           Id ActivityDate  TotalSteps  TotalDistance  TrackerDistance  \\\n",
       "0  1503960366   2016-04-12       13162           8.50             8.50   \n",
       "1  1503960366   2016-04-13       10735           6.97             6.97   \n",
       "2  1503960366   2016-04-14       10460           6.74             6.74   \n",
       "3  1503960366   2016-04-15        9762           6.28             6.28   \n",
       "4  1503960366   2016-04-16       12669           8.16             8.16   \n",
       "\n",
       "   LoggedActivitiesDistance  VeryActiveDistance  ModeratelyActiveDistance  \\\n",
       "0                       0.0                1.88                      0.55   \n",
       "1                       0.0                1.57                      0.69   \n",
       "2                       0.0                2.44                      0.40   \n",
       "3                       0.0                2.14                      1.26   \n",
       "4                       0.0                2.71                      0.41   \n",
       "\n",
       "   LightActiveDistance  SedentaryActiveDistance  VeryActiveMinutes  \\\n",
       "0                 6.06                      0.0                 25   \n",
       "1                 4.71                      0.0                 21   \n",
       "2                 3.91                      0.0                 30   \n",
       "3                 2.83                      0.0                 29   \n",
       "4                 5.04                      0.0                 36   \n",
       "\n",
       "   FairlyActiveMinutes  LightlyActiveMinutes  SedentaryMinutes  Calories  \\\n",
       "0                   13                   328               728      1985   \n",
       "1                   19                   217               776      1797   \n",
       "2                   11                   181              1218      1776   \n",
       "3                   34                   209               726      1745   \n",
       "4                   10                   221               773      1863   \n",
       "\n",
       "  DayOfTheWeek  total_mins  \n",
       "0      Tuesday        1094  \n",
       "1    Wednesday        1033  \n",
       "2     Thursday        1440  \n",
       "3       Friday         998  \n",
       "4     Saturday        1040  "
      ]
     },
     "execution_count": 36,
     "metadata": {},
     "output_type": "execute_result"
    }
   ],
   "source": [
    "daily_activity[\"total_mins\"] = daily_activity.VeryActiveMinutes + daily_activity.FairlyActiveMinutes + daily_activity.LightlyActiveMinutes + daily_activity.SedentaryMinutes\n",
    "daily_activity.head()"
   ]
  },
  {
   "cell_type": "markdown",
   "id": "91ec9abb",
   "metadata": {},
   "source": [
    "##### 3. Membuat kolom baru *total_hours* dengan mengkonversi *total_mins* ke dalam satuan jam untuk analisis selanjutnya."
   ]
  },
  {
   "cell_type": "code",
   "execution_count": 37,
   "id": "6a4f3394",
   "metadata": {},
   "outputs": [
    {
     "data": {
      "text/html": [
       "<div>\n",
       "<style scoped>\n",
       "    .dataframe tbody tr th:only-of-type {\n",
       "        vertical-align: middle;\n",
       "    }\n",
       "\n",
       "    .dataframe tbody tr th {\n",
       "        vertical-align: top;\n",
       "    }\n",
       "\n",
       "    .dataframe thead th {\n",
       "        text-align: right;\n",
       "    }\n",
       "</style>\n",
       "<table border=\"1\" class=\"dataframe\">\n",
       "  <thead>\n",
       "    <tr style=\"text-align: right;\">\n",
       "      <th></th>\n",
       "      <th>Id</th>\n",
       "      <th>ActivityDate</th>\n",
       "      <th>TotalSteps</th>\n",
       "      <th>TotalDistance</th>\n",
       "      <th>TrackerDistance</th>\n",
       "      <th>LoggedActivitiesDistance</th>\n",
       "      <th>VeryActiveDistance</th>\n",
       "      <th>ModeratelyActiveDistance</th>\n",
       "      <th>LightActiveDistance</th>\n",
       "      <th>SedentaryActiveDistance</th>\n",
       "      <th>VeryActiveMinutes</th>\n",
       "      <th>FairlyActiveMinutes</th>\n",
       "      <th>LightlyActiveMinutes</th>\n",
       "      <th>SedentaryMinutes</th>\n",
       "      <th>Calories</th>\n",
       "      <th>DayOfTheWeek</th>\n",
       "      <th>total_mins</th>\n",
       "      <th>total_hours</th>\n",
       "    </tr>\n",
       "  </thead>\n",
       "  <tbody>\n",
       "    <tr>\n",
       "      <th>0</th>\n",
       "      <td>1503960366</td>\n",
       "      <td>2016-04-12</td>\n",
       "      <td>13162</td>\n",
       "      <td>8.50</td>\n",
       "      <td>8.50</td>\n",
       "      <td>0.0</td>\n",
       "      <td>1.88</td>\n",
       "      <td>0.55</td>\n",
       "      <td>6.06</td>\n",
       "      <td>0.0</td>\n",
       "      <td>25</td>\n",
       "      <td>13</td>\n",
       "      <td>328</td>\n",
       "      <td>728</td>\n",
       "      <td>1985</td>\n",
       "      <td>Tuesday</td>\n",
       "      <td>1094</td>\n",
       "      <td>18.0</td>\n",
       "    </tr>\n",
       "    <tr>\n",
       "      <th>1</th>\n",
       "      <td>1503960366</td>\n",
       "      <td>2016-04-13</td>\n",
       "      <td>10735</td>\n",
       "      <td>6.97</td>\n",
       "      <td>6.97</td>\n",
       "      <td>0.0</td>\n",
       "      <td>1.57</td>\n",
       "      <td>0.69</td>\n",
       "      <td>4.71</td>\n",
       "      <td>0.0</td>\n",
       "      <td>21</td>\n",
       "      <td>19</td>\n",
       "      <td>217</td>\n",
       "      <td>776</td>\n",
       "      <td>1797</td>\n",
       "      <td>Wednesday</td>\n",
       "      <td>1033</td>\n",
       "      <td>17.0</td>\n",
       "    </tr>\n",
       "    <tr>\n",
       "      <th>2</th>\n",
       "      <td>1503960366</td>\n",
       "      <td>2016-04-14</td>\n",
       "      <td>10460</td>\n",
       "      <td>6.74</td>\n",
       "      <td>6.74</td>\n",
       "      <td>0.0</td>\n",
       "      <td>2.44</td>\n",
       "      <td>0.40</td>\n",
       "      <td>3.91</td>\n",
       "      <td>0.0</td>\n",
       "      <td>30</td>\n",
       "      <td>11</td>\n",
       "      <td>181</td>\n",
       "      <td>1218</td>\n",
       "      <td>1776</td>\n",
       "      <td>Thursday</td>\n",
       "      <td>1440</td>\n",
       "      <td>24.0</td>\n",
       "    </tr>\n",
       "    <tr>\n",
       "      <th>3</th>\n",
       "      <td>1503960366</td>\n",
       "      <td>2016-04-15</td>\n",
       "      <td>9762</td>\n",
       "      <td>6.28</td>\n",
       "      <td>6.28</td>\n",
       "      <td>0.0</td>\n",
       "      <td>2.14</td>\n",
       "      <td>1.26</td>\n",
       "      <td>2.83</td>\n",
       "      <td>0.0</td>\n",
       "      <td>29</td>\n",
       "      <td>34</td>\n",
       "      <td>209</td>\n",
       "      <td>726</td>\n",
       "      <td>1745</td>\n",
       "      <td>Friday</td>\n",
       "      <td>998</td>\n",
       "      <td>17.0</td>\n",
       "    </tr>\n",
       "    <tr>\n",
       "      <th>4</th>\n",
       "      <td>1503960366</td>\n",
       "      <td>2016-04-16</td>\n",
       "      <td>12669</td>\n",
       "      <td>8.16</td>\n",
       "      <td>8.16</td>\n",
       "      <td>0.0</td>\n",
       "      <td>2.71</td>\n",
       "      <td>0.41</td>\n",
       "      <td>5.04</td>\n",
       "      <td>0.0</td>\n",
       "      <td>36</td>\n",
       "      <td>10</td>\n",
       "      <td>221</td>\n",
       "      <td>773</td>\n",
       "      <td>1863</td>\n",
       "      <td>Saturday</td>\n",
       "      <td>1040</td>\n",
       "      <td>17.0</td>\n",
       "    </tr>\n",
       "  </tbody>\n",
       "</table>\n",
       "</div>"
      ],
      "text/plain": [
       "           Id ActivityDate  TotalSteps  TotalDistance  TrackerDistance  \\\n",
       "0  1503960366   2016-04-12       13162           8.50             8.50   \n",
       "1  1503960366   2016-04-13       10735           6.97             6.97   \n",
       "2  1503960366   2016-04-14       10460           6.74             6.74   \n",
       "3  1503960366   2016-04-15        9762           6.28             6.28   \n",
       "4  1503960366   2016-04-16       12669           8.16             8.16   \n",
       "\n",
       "   LoggedActivitiesDistance  VeryActiveDistance  ModeratelyActiveDistance  \\\n",
       "0                       0.0                1.88                      0.55   \n",
       "1                       0.0                1.57                      0.69   \n",
       "2                       0.0                2.44                      0.40   \n",
       "3                       0.0                2.14                      1.26   \n",
       "4                       0.0                2.71                      0.41   \n",
       "\n",
       "   LightActiveDistance  SedentaryActiveDistance  VeryActiveMinutes  \\\n",
       "0                 6.06                      0.0                 25   \n",
       "1                 4.71                      0.0                 21   \n",
       "2                 3.91                      0.0                 30   \n",
       "3                 2.83                      0.0                 29   \n",
       "4                 5.04                      0.0                 36   \n",
       "\n",
       "   FairlyActiveMinutes  LightlyActiveMinutes  SedentaryMinutes  Calories  \\\n",
       "0                   13                   328               728      1985   \n",
       "1                   19                   217               776      1797   \n",
       "2                   11                   181              1218      1776   \n",
       "3                   34                   209               726      1745   \n",
       "4                   10                   221               773      1863   \n",
       "\n",
       "  DayOfTheWeek  total_mins  total_hours  \n",
       "0      Tuesday        1094         18.0  \n",
       "1    Wednesday        1033         17.0  \n",
       "2     Thursday        1440         24.0  \n",
       "3       Friday         998         17.0  \n",
       "4     Saturday        1040         17.0  "
      ]
     },
     "execution_count": 37,
     "metadata": {},
     "output_type": "execute_result"
    }
   ],
   "source": [
    "daily_activity[\"total_hours\"] = round(daily_activity.total_mins / 60)\n",
    "\n",
    "daily_activity.head()"
   ]
  },
  {
   "cell_type": "markdown",
   "id": "855b8eca",
   "metadata": {},
   "source": [
    "### Tahap 4: Menganalisis"
   ]
  },
  {
   "cell_type": "markdown",
   "id": "3b002d9d",
   "metadata": {},
   "source": [
    "Melakukan analisis berdasarkan statistika deskriptif dari data."
   ]
  },
  {
   "cell_type": "code",
   "execution_count": 38,
   "id": "16bcbca8",
   "metadata": {},
   "outputs": [
    {
     "data": {
      "text/html": [
       "<div>\n",
       "<style scoped>\n",
       "    .dataframe tbody tr th:only-of-type {\n",
       "        vertical-align: middle;\n",
       "    }\n",
       "\n",
       "    .dataframe tbody tr th {\n",
       "        vertical-align: top;\n",
       "    }\n",
       "\n",
       "    .dataframe thead th {\n",
       "        text-align: right;\n",
       "    }\n",
       "</style>\n",
       "<table border=\"1\" class=\"dataframe\">\n",
       "  <thead>\n",
       "    <tr style=\"text-align: right;\">\n",
       "      <th></th>\n",
       "      <th>Id</th>\n",
       "      <th>TotalSteps</th>\n",
       "      <th>TotalDistance</th>\n",
       "      <th>TrackerDistance</th>\n",
       "      <th>LoggedActivitiesDistance</th>\n",
       "      <th>VeryActiveDistance</th>\n",
       "      <th>ModeratelyActiveDistance</th>\n",
       "      <th>LightActiveDistance</th>\n",
       "      <th>SedentaryActiveDistance</th>\n",
       "      <th>VeryActiveMinutes</th>\n",
       "      <th>FairlyActiveMinutes</th>\n",
       "      <th>LightlyActiveMinutes</th>\n",
       "      <th>SedentaryMinutes</th>\n",
       "      <th>Calories</th>\n",
       "      <th>total_mins</th>\n",
       "      <th>total_hours</th>\n",
       "    </tr>\n",
       "  </thead>\n",
       "  <tbody>\n",
       "    <tr>\n",
       "      <th>count</th>\n",
       "      <td>9.400000e+02</td>\n",
       "      <td>940.000000</td>\n",
       "      <td>940.000000</td>\n",
       "      <td>940.000000</td>\n",
       "      <td>940.000000</td>\n",
       "      <td>940.000000</td>\n",
       "      <td>940.000000</td>\n",
       "      <td>940.000000</td>\n",
       "      <td>940.000000</td>\n",
       "      <td>940.000000</td>\n",
       "      <td>940.000000</td>\n",
       "      <td>940.000000</td>\n",
       "      <td>940.000000</td>\n",
       "      <td>940.000000</td>\n",
       "      <td>940.000000</td>\n",
       "      <td>940.000000</td>\n",
       "    </tr>\n",
       "    <tr>\n",
       "      <th>mean</th>\n",
       "      <td>4.855407e+09</td>\n",
       "      <td>7637.910638</td>\n",
       "      <td>5.489702</td>\n",
       "      <td>5.475351</td>\n",
       "      <td>0.108171</td>\n",
       "      <td>1.502681</td>\n",
       "      <td>0.567543</td>\n",
       "      <td>3.340819</td>\n",
       "      <td>0.001606</td>\n",
       "      <td>21.164894</td>\n",
       "      <td>13.564894</td>\n",
       "      <td>192.812766</td>\n",
       "      <td>991.210638</td>\n",
       "      <td>2303.609574</td>\n",
       "      <td>1218.753191</td>\n",
       "      <td>20.313830</td>\n",
       "    </tr>\n",
       "    <tr>\n",
       "      <th>std</th>\n",
       "      <td>2.424805e+09</td>\n",
       "      <td>5087.150742</td>\n",
       "      <td>3.924606</td>\n",
       "      <td>3.907276</td>\n",
       "      <td>0.619897</td>\n",
       "      <td>2.658941</td>\n",
       "      <td>0.883580</td>\n",
       "      <td>2.040655</td>\n",
       "      <td>0.007346</td>\n",
       "      <td>32.844803</td>\n",
       "      <td>19.987404</td>\n",
       "      <td>109.174700</td>\n",
       "      <td>301.267437</td>\n",
       "      <td>718.166862</td>\n",
       "      <td>265.931767</td>\n",
       "      <td>4.437283</td>\n",
       "    </tr>\n",
       "    <tr>\n",
       "      <th>min</th>\n",
       "      <td>1.503960e+09</td>\n",
       "      <td>0.000000</td>\n",
       "      <td>0.000000</td>\n",
       "      <td>0.000000</td>\n",
       "      <td>0.000000</td>\n",
       "      <td>0.000000</td>\n",
       "      <td>0.000000</td>\n",
       "      <td>0.000000</td>\n",
       "      <td>0.000000</td>\n",
       "      <td>0.000000</td>\n",
       "      <td>0.000000</td>\n",
       "      <td>0.000000</td>\n",
       "      <td>0.000000</td>\n",
       "      <td>0.000000</td>\n",
       "      <td>2.000000</td>\n",
       "      <td>0.000000</td>\n",
       "    </tr>\n",
       "    <tr>\n",
       "      <th>25%</th>\n",
       "      <td>2.320127e+09</td>\n",
       "      <td>3789.750000</td>\n",
       "      <td>2.620000</td>\n",
       "      <td>2.620000</td>\n",
       "      <td>0.000000</td>\n",
       "      <td>0.000000</td>\n",
       "      <td>0.000000</td>\n",
       "      <td>1.945000</td>\n",
       "      <td>0.000000</td>\n",
       "      <td>0.000000</td>\n",
       "      <td>0.000000</td>\n",
       "      <td>127.000000</td>\n",
       "      <td>729.750000</td>\n",
       "      <td>1828.500000</td>\n",
       "      <td>989.750000</td>\n",
       "      <td>16.000000</td>\n",
       "    </tr>\n",
       "    <tr>\n",
       "      <th>50%</th>\n",
       "      <td>4.445115e+09</td>\n",
       "      <td>7405.500000</td>\n",
       "      <td>5.245000</td>\n",
       "      <td>5.245000</td>\n",
       "      <td>0.000000</td>\n",
       "      <td>0.210000</td>\n",
       "      <td>0.240000</td>\n",
       "      <td>3.365000</td>\n",
       "      <td>0.000000</td>\n",
       "      <td>4.000000</td>\n",
       "      <td>6.000000</td>\n",
       "      <td>199.000000</td>\n",
       "      <td>1057.500000</td>\n",
       "      <td>2134.000000</td>\n",
       "      <td>1440.000000</td>\n",
       "      <td>24.000000</td>\n",
       "    </tr>\n",
       "    <tr>\n",
       "      <th>75%</th>\n",
       "      <td>6.962181e+09</td>\n",
       "      <td>10727.000000</td>\n",
       "      <td>7.712500</td>\n",
       "      <td>7.710000</td>\n",
       "      <td>0.000000</td>\n",
       "      <td>2.052500</td>\n",
       "      <td>0.800000</td>\n",
       "      <td>4.782500</td>\n",
       "      <td>0.000000</td>\n",
       "      <td>32.000000</td>\n",
       "      <td>19.000000</td>\n",
       "      <td>264.000000</td>\n",
       "      <td>1229.500000</td>\n",
       "      <td>2793.250000</td>\n",
       "      <td>1440.000000</td>\n",
       "      <td>24.000000</td>\n",
       "    </tr>\n",
       "    <tr>\n",
       "      <th>max</th>\n",
       "      <td>8.877689e+09</td>\n",
       "      <td>36019.000000</td>\n",
       "      <td>28.030001</td>\n",
       "      <td>28.030001</td>\n",
       "      <td>4.942142</td>\n",
       "      <td>21.920000</td>\n",
       "      <td>6.480000</td>\n",
       "      <td>10.710000</td>\n",
       "      <td>0.110000</td>\n",
       "      <td>210.000000</td>\n",
       "      <td>143.000000</td>\n",
       "      <td>518.000000</td>\n",
       "      <td>1440.000000</td>\n",
       "      <td>4900.000000</td>\n",
       "      <td>1440.000000</td>\n",
       "      <td>24.000000</td>\n",
       "    </tr>\n",
       "  </tbody>\n",
       "</table>\n",
       "</div>"
      ],
      "text/plain": [
       "                 Id    TotalSteps  TotalDistance  TrackerDistance  \\\n",
       "count  9.400000e+02    940.000000     940.000000       940.000000   \n",
       "mean   4.855407e+09   7637.910638       5.489702         5.475351   \n",
       "std    2.424805e+09   5087.150742       3.924606         3.907276   \n",
       "min    1.503960e+09      0.000000       0.000000         0.000000   \n",
       "25%    2.320127e+09   3789.750000       2.620000         2.620000   \n",
       "50%    4.445115e+09   7405.500000       5.245000         5.245000   \n",
       "75%    6.962181e+09  10727.000000       7.712500         7.710000   \n",
       "max    8.877689e+09  36019.000000      28.030001        28.030001   \n",
       "\n",
       "       LoggedActivitiesDistance  VeryActiveDistance  ModeratelyActiveDistance  \\\n",
       "count                940.000000          940.000000                940.000000   \n",
       "mean                   0.108171            1.502681                  0.567543   \n",
       "std                    0.619897            2.658941                  0.883580   \n",
       "min                    0.000000            0.000000                  0.000000   \n",
       "25%                    0.000000            0.000000                  0.000000   \n",
       "50%                    0.000000            0.210000                  0.240000   \n",
       "75%                    0.000000            2.052500                  0.800000   \n",
       "max                    4.942142           21.920000                  6.480000   \n",
       "\n",
       "       LightActiveDistance  SedentaryActiveDistance  VeryActiveMinutes  \\\n",
       "count           940.000000               940.000000         940.000000   \n",
       "mean              3.340819                 0.001606          21.164894   \n",
       "std               2.040655                 0.007346          32.844803   \n",
       "min               0.000000                 0.000000           0.000000   \n",
       "25%               1.945000                 0.000000           0.000000   \n",
       "50%               3.365000                 0.000000           4.000000   \n",
       "75%               4.782500                 0.000000          32.000000   \n",
       "max              10.710000                 0.110000         210.000000   \n",
       "\n",
       "       FairlyActiveMinutes  LightlyActiveMinutes  SedentaryMinutes  \\\n",
       "count           940.000000            940.000000        940.000000   \n",
       "mean             13.564894            192.812766        991.210638   \n",
       "std              19.987404            109.174700        301.267437   \n",
       "min               0.000000              0.000000          0.000000   \n",
       "25%               0.000000            127.000000        729.750000   \n",
       "50%               6.000000            199.000000       1057.500000   \n",
       "75%              19.000000            264.000000       1229.500000   \n",
       "max             143.000000            518.000000       1440.000000   \n",
       "\n",
       "          Calories   total_mins  total_hours  \n",
       "count   940.000000   940.000000   940.000000  \n",
       "mean   2303.609574  1218.753191    20.313830  \n",
       "std     718.166862   265.931767     4.437283  \n",
       "min       0.000000     2.000000     0.000000  \n",
       "25%    1828.500000   989.750000    16.000000  \n",
       "50%    2134.000000  1440.000000    24.000000  \n",
       "75%    2793.250000  1440.000000    24.000000  \n",
       "max    4900.000000  1440.000000    24.000000  "
      ]
     },
     "execution_count": 38,
     "metadata": {},
     "output_type": "execute_result"
    }
   ],
   "source": [
    "daily_activity.describe()"
   ]
  },
  {
   "cell_type": "markdown",
   "id": "9f67e1f0",
   "metadata": {},
   "source": [
    "Interpretasi dari data statistika deskriptif di atas adalah sebagai berikut:\n",
    "\n",
    "1. Secara rata-rata pelanggan menempuh 7.638 langkah. Jumlah ini tidak sesuai dengan rekomendasi *Centers for Disease Control and Prevention (CDC)* yaitu 10.000 langkah.\n",
    "\n",
    "2. Secara rata-rata kalori yang terbakar 2.303 kalori. Namun, tidak dapat merincikan faktor yang berpengaruh terhadap pembakaran kalori seperti usia, berat badan, aktivitas harian, hormon, dan asupan kalori."
   ]
  },
  {
   "cell_type": "markdown",
   "id": "ea728c6a",
   "metadata": {},
   "source": [
    "### Tahap 5 : Berbagi"
   ]
  },
  {
   "cell_type": "markdown",
   "id": "905d8532",
   "metadata": {},
   "source": [
    "#### 5.1 *Import Library* untuk visualisasi"
   ]
  },
  {
   "cell_type": "code",
   "execution_count": 39,
   "id": "62392c01",
   "metadata": {},
   "outputs": [],
   "source": [
    "import matplotlib.pyplot as plt\n",
    "import seaborn as sns"
   ]
  },
  {
   "cell_type": "markdown",
   "id": "8759b3b9",
   "metadata": {},
   "source": [
    "##### 5.2 Visualisasi Frekuensi Jumlah Pelanggan Masuk ke Aplikasi"
   ]
  },
  {
   "cell_type": "code",
   "execution_count": 40,
   "id": "d530f7a0",
   "metadata": {},
   "outputs": [
    {
     "name": "stderr",
     "output_type": "stream",
     "text": [
      "C:\\Users\\Gian\\anaconda3\\lib\\site-packages\\seaborn\\_decorators.py:36: FutureWarning: Pass the following variable as a keyword arg: x. From version 0.12, the only valid positional argument will be `data`, and passing other arguments without an explicit keyword will result in an error or misinterpretation.\n",
      "  warnings.warn(\n"
     ]
    },
    {
     "data": {
      "image/png": "[encoded data removed]",
      "text/plain": [
       "<Figure size 600x600 with 1 Axes>"
      ]
     },
     "metadata": {},
     "output_type": "display_data"
    }
   ],
   "source": [
    "plt.style.use(\"default\")\n",
    "plt.figure(figsize=(6,6)) \n",
    "sns.countplot(daily_activity.DayOfTheWeek,palette='nipy_spectral')\n",
    "\n",
    "plt.xlabel(\"Hari\")\n",
    "plt.ylabel(\"Frekuensi\")\n",
    "plt.title(\"Jumlah Pelanggan Masuk ke Aplikasi\")\n",
    "plt.xticks(rotation = 45)\n",
    "plt.show()"
   ]
  },
  {
   "cell_type": "markdown",
   "id": "b45cd8be",
   "metadata": {},
   "source": [
    "Berdasarkan grafik diatas dapat dapat diambil kesimpulan:\n",
    "1. Penggunaan FitBit app paling banyak dilakukan tengah pekan (Selasa, Rabu, dan Kamis)\n",
    "2. Pada hari jum'at pengunaan menurun, karena memasuki akhir pekan dimana aktivitas pelanggan menurun."
   ]
  },
  {
   "cell_type": "markdown",
   "id": "26ca8a70",
   "metadata": {},
   "source": [
    "#### 5.3 Visualisai Kalori Terbakar Setiap Langkah yang Dilakukan"
   ]
  },
  {
   "cell_type": "code",
   "execution_count": 41,
   "id": "0153dc56",
   "metadata": {},
   "outputs": [
    {
     "name": "stderr",
     "output_type": "stream",
     "text": [
      "No artists with labels found to put in legend.  Note that artists whose label start with an underscore are ignored when legend() is called with no argument.\n"
     ]
    },
    {
     "data": {
      "image/png": "[encoded data removed]",
      "text/plain": [
       "<Figure size 800x600 with 2 Axes>"
      ]
     },
     "metadata": {},
     "output_type": "display_data"
    }
   ],
   "source": [
    "plt.style.use(\"default\")\n",
    "plt.figure(figsize=(8,6)) \n",
    "plt.scatter(daily_activity.TotalSteps, daily_activity.Calories, \n",
    "            alpha = 0.8, c = daily_activity.Calories, \n",
    "            cmap = \"nipy_spectral\")\n",
    "\n",
    "median_calories = 2134\n",
    "median_steps = 7405.5\n",
    "\n",
    "plt.colorbar(orientation = \"vertical\")\n",
    "plt.xlabel(\"Langkah yang Ditempuh\")\n",
    "plt.ylabel(\"Kalori Terbakar\")\n",
    "plt.title(\"Kalori Terbakar Setiap Langkah yang Dilakukan\")\n",
    "plt.grid(True)\n",
    "plt.legend()\n",
    "plt.show()"
   ]
  },
  {
   "cell_type": "markdown",
   "id": "e7b1ce6f",
   "metadata": {},
   "source": [
    "Berdasarkan grafik di atas, dapat disimpulkan bahwa:\n",
    "1. Korelasi antara kalori yang terbakar dengan jumlah langkah yang ditempuh bernilai positif.\n",
    "2. Intensitas kalori yang terbakar meningkat pada rentang 0 sampai 15.000 langkah yang ditempuh, kemudian intensitas itu menurun saat langkah yang ditempuh lebih dari 15.000 langkah.\n",
    "3. Terdapat *outliers* pada koordinat 0,0"
   ]
  },
  {
   "cell_type": "markdown",
   "id": "50285d77",
   "metadata": {},
   "source": [
    "#### 5.4 Visualisai Kalori Terbakar Untuk Setiap Jam Pelanggan Masuk Ke Aplikasi"
   ]
  },
  {
   "cell_type": "code",
   "execution_count": 42,
   "id": "824b267c",
   "metadata": {},
   "outputs": [
    {
     "name": "stderr",
     "output_type": "stream",
     "text": [
      "No artists with labels found to put in legend.  Note that artists whose label start with an underscore are ignored when legend() is called with no argument.\n"
     ]
    },
    {
     "data": {
      "image/png": "[encoded data removed]",
      "text/plain": [
       "<Figure size 800x600 with 2 Axes>"
      ]
     },
     "metadata": {},
     "output_type": "display_data"
    }
   ],
   "source": [
    "plt.style.use(\"default\")\n",
    "plt.figure(figsize=(8,6)) \n",
    "plt.scatter(daily_activity.total_hours, daily_activity.Calories, \n",
    "            alpha = 0.8, c = daily_activity.Calories, \n",
    "            cmap = \"nipy_spectral\")\n",
    "\n",
    "median_calories = 2134\n",
    "median_hours = 24\n",
    "median_sedentary = 1057.5 / 60\n",
    "\n",
    "plt.colorbar(orientation = \"vertical\")\n",
    "plt.xlabel(\"Jumlah Jam Masuk ke Aplikasi\")\n",
    "plt.ylabel(\"Kalori Terbakar\")\n",
    "plt.title(\"Kalori Terbakar Setiap Jam Masuk ke Aplikasi\")\n",
    "plt.legend()\n",
    "plt.grid(True)\n",
    "plt.show()"
   ]
  },
  {
   "cell_type": "markdown",
   "id": "d4833379",
   "metadata": {},
   "source": [
    "Berdasarkan grafik di atas dapat disimpulkan bahwa:\n",
    "1. Kalori terbakar memiliki korelasi yang lemah pada jumlah jam masuk ke aplikasi.\n",
    "2. Terdapat *outliers* pada koordinat 0,0"
   ]
  },
  {
   "cell_type": "markdown",
   "id": "edb74ba2",
   "metadata": {},
   "source": [
    "#### 5.5 Presentasi Aktivitas dalam Menit"
   ]
  },
  {
   "cell_type": "code",
   "execution_count": 43,
   "id": "f3d99e96",
   "metadata": {},
   "outputs": [
    {
     "data": {
      "image/png": "[encoded data removed]",
      "text/plain": [
       "<Figure size 640x480 with 1 Axes>"
      ]
     },
     "metadata": {},
     "output_type": "display_data"
    }
   ],
   "source": [
    "very_active_mins = daily_activity.VeryActiveMinutes.sum()\n",
    "fairly_active_mins = daily_activity.FairlyActiveMinutes.sum()\n",
    "lightly_active_mins = daily_activity.LightlyActiveMinutes.sum()\n",
    "sedentary_mins = daily_activity.SedentaryMinutes.sum()\n",
    "\n",
    "slices = [very_active_mins, fairly_active_mins, lightly_active_mins, sedentary_mins]\n",
    "labels = [\"Very active minutes\", \"Fairly active minutes\", \"Lightly active minutes\", \"Sedentary minutes\"]\n",
    "colours = [\"magenta\", \"aquamarine\", \"red\", \"orange\"]\n",
    "explode = [0, 0, 0, 0.1]\n",
    "plt.style.use(\"default\")\n",
    "plt.pie(slices, labels = labels, \n",
    "        colors = colours, wedgeprops = {\"edgecolor\": \"black\"}, \n",
    "        explode = explode, autopct = \"%1.1f%%\")\n",
    "plt.title(\"Presentasi Aktivitas dalam Menit\")\n",
    "plt.tight_layout()\n",
    "plt.show()\n"
   ]
  },
  {
   "cell_type": "markdown",
   "id": "67772770",
   "metadata": {},
   "source": [
    "Berdasarkan grfaik diatas dapat disimpulkan bahwa:\n",
    "1. Waktu tetap (*Sedentary minutes*) memiliki persetasi paling besar yaitu 81,3%\n",
    "2. Penggunaan FitBit App diindikasikan paling banyak oleh aktivitas harian jika dilihat pada porsi watu tetap yang mendominasi.\n",
    "3. FitBit App diindikasikan jarang digunakan untuk aktivitas berlari, jika di lihat pada Waktu Sangat Aktif (*very active minutes*) porsinya sangat kecil hanya 1,7%"
   ]
  },
  {
   "cell_type": "markdown",
   "id": "f5b67a46",
   "metadata": {},
   "source": [
    "### Tahap 6: Bertindak"
   ]
  },
  {
   "cell_type": "markdown",
   "id": "fe7e8f87",
   "metadata": {},
   "source": [
    "Pada tahap terakhir ini, kita akan memberikan rekomendasi terbaik berdasarkan hasil analisis yang telah dilakukan.\n",
    "\n",
    "\n",
    "\n"
   ]
  },
  {
   "cell_type": "markdown",
   "id": "6618599e",
   "metadata": {},
   "source": [
    "**1. Apa saja trend yang penggunaan FitBit App sudah terindentifikasi?**"
   ]
  },
  {
   "cell_type": "markdown",
   "id": "6a88c83b",
   "metadata": {},
   "source": [
    "Mayoritas FitBit App digunakan untuk memantau aktivitas harian, bukan untuk memantau pola hidup sehat pelanggan.\n"
   ]
  },
  {
   "cell_type": "markdown",
   "id": "cf898374",
   "metadata": {},
   "source": [
    "Pengguna FitBit App mayoritas pada tengah pekan pada hari selasa, rabu, dan kamis. Hal ini selaras dengan kebiasan pelanggan untuk emnggunakan aplikasi ini untuk memantau aktivitas harian, dimana pada hari tersebut adalah hari padat untuk bekerja."
   ]
  },
  {
   "cell_type": "markdown",
   "id": "252de705",
   "metadata": {},
   "source": [
    "**2. Bagaimana trend tersebut dapat diterapkan kepada pelanggan Bellabeat?**\n"
   ]
  },
  {
   "cell_type": "markdown",
   "id": "fbea53b7",
   "metadata": {},
   "source": [
    "Bellabeat berfokus untuk membangun produk yang  menginformasikan dan menginspirasi wanita tentang kesehatan, kebiasaan, dan mendorong wanita untuk hidup sehat. Tren pada pertanyaan 1 berfokus pada kesehatan dan pola hidup, sehingga dapat diaplikasikan pada pelanggan Bellabeat."
   ]
  },
  {
   "cell_type": "markdown",
   "id": "82b79c34",
   "metadata": {},
   "source": [
    "**3. Bagaimana *trend* tresebut membantu strategi pemasaran dari Bellabeat?**"
   ]
  },
  {
   "cell_type": "markdown",
   "id": "f3ced0a0",
   "metadata": {},
   "source": [
    "Tim pemasaran Bellabeat dapat meengedukasi pelanggan seputar keuntungan dari akvititas *fitness*, jenis akvititas *fitness* yang dapat dilakukan, dan jumlah kalori terbakar yang dapat diinformasikan oleh Bellabeat APP"
   ]
  },
  {
   "cell_type": "markdown",
   "id": "966b06cc",
   "metadata": {},
   "source": [
    "pada akhir pekan, Bellabeat App dapat membuat sebuah pemberitahuan untuk mendorong pelanggan tetap melakukan *exercise* untuk menjaga kebugaran."
   ]
  },
  {
   "cell_type": "code",
   "execution_count": null,
   "id": "741dd95c",
   "metadata": {},
   "outputs": [],
   "source": []
  }
 ],
 "metadata": {
  "kernelspec": {
   "display_name": "Python 3 (ipykernel)",
   "language": "python",
   "name": "python3"
  },
  "language_info": {
   "codemirror_mode": {
    "name": "ipython",
    "version": 3
   },
   "file_extension": ".py",
   "mimetype": "text/x-python",
   "name": "python",
   "nbconvert_exporter": "python",
   "pygments_lexer": "ipython3",
   "version": "3.9.12"
  }
 },
 "nbformat": 4,
 "nbformat_minor": 5
}
